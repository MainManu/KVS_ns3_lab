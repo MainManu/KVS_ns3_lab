{
 "cells": [
  {
   "cell_type": "code",
   "execution_count": 1,
   "metadata": {},
   "outputs": [
    {
     "name": "stdout",
     "output_type": "stream",
     "text": [
      "\u001b[1mLoading .env environment variables...\u001b[0m\n",
      "\u001b[32mCourtesy Notice\u001b[0m: Pipenv found itself running within a virtual environment, so it will automatically use that environment, instead of creating its own for any project. You can set \u001b[1mPIPENV_IGNORE_VIRTUALENVS=1\u001b[0m to force pipenv to ignore that environment and create its own instead. You can set \u001b[1mPIPENV_VERBOSITY=-1\u001b[0m to suppress this warning.\n",
      "\u001b[1mInstalling dependencies from Pipfile.lock (7bd759)...\u001b[0m\n",
      "To activate this project's virtualenv, run \u001b[33mpipenv shell\u001b[0m.\n",
      "Alternatively, run a command inside the virtualenv with \u001b[33mpipenv run\u001b[0m.\n"
     ]
    }
   ],
   "source": [
    "# install pipenv requirements\n",
    "!pipenv install\n",
    "import dotenv\n",
    "import os\n",
    "\n",
    "# load environment variables\n",
    "dotenv.load_dotenv()\n",
    "SSH_USERNAME = os.getenv(\"SSH_USERNAME\")\n",
    "SSH_HOST = os.getenv(\"SSH_HOST\")\n",
    "SSH_PORT = os.getenv(\"SSH_PORT\")\n",
    "SSH_PASSWORD = os.getenv(\"SSH_PASSWORD\")\n",
    "NS3DIR = os.getenv(\"NS3DIR\")"
   ]
  },
  {
   "cell_type": "code",
   "execution_count": 3,
   "metadata": {},
   "outputs": [],
   "source": [
    "from wifi_experiment.utlis import *\n",
    "\n",
    "# connect to remote host\n",
    "host = remote_host(host=SSH_HOST, port=SSH_PORT, username=SSH_USERNAME, password=SSH_PASSWORD)"
   ]
  },
  {
   "cell_type": "code",
   "execution_count": 4,
   "metadata": {},
   "outputs": [
    {
     "ename": "Exception",
     "evalue": "Command $NS3DIR/ns3 run scratch/wifi-experiment.cc -- --distance=10 --simulationTime=10 --csv_export_path=$NS3DIR/sample.csv --propagationModel=FriisPropagationLossModel failed with exit status 127",
     "output_type": "error",
     "traceback": [
      "\u001b[0;31m---------------------------------------------------------------------------\u001b[0m",
      "\u001b[0;31mException\u001b[0m                                 Traceback (most recent call last)",
      "Cell \u001b[0;32mIn[4], line 4\u001b[0m\n\u001b[1;32m      2\u001b[0m propModel \u001b[38;5;241m=\u001b[39m propagationModels[\u001b[38;5;241m0\u001b[39m]\n\u001b[1;32m      3\u001b[0m run \u001b[38;5;241m=\u001b[39m experiment_run(host\u001b[38;5;241m=\u001b[39mhost, propModel\u001b[38;5;241m=\u001b[39mpropModel, simulationTime_s\u001b[38;5;241m=\u001b[39m\u001b[38;5;241m10\u001b[39m, distance_m\u001b[38;5;241m=\u001b[39m\u001b[38;5;241m10\u001b[39m, remote_csv_path\u001b[38;5;241m=\u001b[39m\u001b[38;5;124m\"\u001b[39m\u001b[38;5;124m$NS3DIR/sample.csv\u001b[39m\u001b[38;5;124m\"\u001b[39m, local_csv_path\u001b[38;5;241m=\u001b[39m\u001b[38;5;124m\"\u001b[39m\u001b[38;5;124msample.csv\u001b[39m\u001b[38;5;124m\"\u001b[39m)\n\u001b[0;32m----> 4\u001b[0m \u001b[43mrun\u001b[49m\u001b[38;5;241;43m.\u001b[39;49m\u001b[43mrun\u001b[49m\u001b[43m(\u001b[49m\u001b[43m)\u001b[49m\n",
      "File \u001b[0;32m~/GitClones/KVS_ns3_lab/DataAnalysis/wifi_experiment/utlis.py:52\u001b[0m, in \u001b[0;36mexperiment_run.run\u001b[0;34m(self)\u001b[0m\n\u001b[1;32m     51\u001b[0m \u001b[38;5;28;01mdef\u001b[39;00m \u001b[38;5;21mrun\u001b[39m(\u001b[38;5;28mself\u001b[39m):\n\u001b[0;32m---> 52\u001b[0m     output \u001b[38;5;241m=\u001b[39m \u001b[38;5;28;43mself\u001b[39;49m\u001b[38;5;241;43m.\u001b[39;49m\u001b[43mhost\u001b[49m\u001b[38;5;241;43m.\u001b[39;49m\u001b[43mexec\u001b[49m\u001b[43m(\u001b[49m\n\u001b[1;32m     53\u001b[0m \u001b[43m        \u001b[49m\u001b[38;5;124;43mf\u001b[39;49m\u001b[38;5;124;43m\"\u001b[39;49m\u001b[38;5;124;43m$NS3DIR/ns3 run scratch/wifi-experiment.cc -- --distance=\u001b[39;49m\u001b[38;5;132;43;01m{\u001b[39;49;00m\u001b[38;5;28;43mself\u001b[39;49m\u001b[38;5;241;43m.\u001b[39;49m\u001b[43mdistance_m\u001b[49m\u001b[38;5;132;43;01m}\u001b[39;49;00m\u001b[38;5;124;43m --simulationTime=\u001b[39;49m\u001b[38;5;132;43;01m{\u001b[39;49;00m\u001b[38;5;28;43mself\u001b[39;49m\u001b[38;5;241;43m.\u001b[39;49m\u001b[43msimulationTime_s\u001b[49m\u001b[38;5;132;43;01m}\u001b[39;49;00m\u001b[38;5;124;43m --csv_export_path=\u001b[39;49m\u001b[38;5;132;43;01m{\u001b[39;49;00m\u001b[38;5;28;43mself\u001b[39;49m\u001b[38;5;241;43m.\u001b[39;49m\u001b[43mremote_csv_path\u001b[49m\u001b[38;5;132;43;01m}\u001b[39;49;00m\u001b[38;5;124;43m --propagationModel=\u001b[39;49m\u001b[38;5;132;43;01m{\u001b[39;49;00m\u001b[38;5;28;43mself\u001b[39;49m\u001b[38;5;241;43m.\u001b[39;49m\u001b[43mpropModel\u001b[49m\u001b[38;5;132;43;01m}\u001b[39;49;00m\u001b[38;5;124;43m\"\u001b[39;49m\u001b[43m)\u001b[49m\n\u001b[1;32m     54\u001b[0m     \u001b[38;5;28mprint\u001b[39m(output)\n\u001b[1;32m     55\u001b[0m     \u001b[38;5;28mself\u001b[39m\u001b[38;5;241m.\u001b[39mhost\u001b[38;5;241m.\u001b[39mgetfile(\u001b[38;5;28mself\u001b[39m\u001b[38;5;241m.\u001b[39mremote_csv_path, \u001b[38;5;28mself\u001b[39m\u001b[38;5;241m.\u001b[39mlocal_csv_path)\n",
      "File \u001b[0;32m~/GitClones/KVS_ns3_lab/DataAnalysis/wifi_experiment/utlis.py:21\u001b[0m, in \u001b[0;36mremote_host.exec\u001b[0;34m(self, command)\u001b[0m\n\u001b[1;32m     19\u001b[0m exit_status \u001b[38;5;241m=\u001b[39m stdout\u001b[38;5;241m.\u001b[39mchannel\u001b[38;5;241m.\u001b[39mrecv_exit_status()\n\u001b[1;32m     20\u001b[0m \u001b[38;5;28;01mif\u001b[39;00m exit_status \u001b[38;5;241m!=\u001b[39m \u001b[38;5;241m0\u001b[39m:\n\u001b[0;32m---> 21\u001b[0m     \u001b[38;5;28;01mraise\u001b[39;00m \u001b[38;5;167;01mException\u001b[39;00m(\n\u001b[1;32m     22\u001b[0m         \u001b[38;5;124mf\u001b[39m\u001b[38;5;124m\"\u001b[39m\u001b[38;5;124mCommand \u001b[39m\u001b[38;5;132;01m{\u001b[39;00mcommand\u001b[38;5;132;01m}\u001b[39;00m\u001b[38;5;124m failed with exit status \u001b[39m\u001b[38;5;132;01m{\u001b[39;00mexit_status\u001b[38;5;132;01m}\u001b[39;00m\u001b[38;5;124m\"\u001b[39m)\n\u001b[1;32m     23\u001b[0m \u001b[38;5;28;01mreturn\u001b[39;00m stdout\u001b[38;5;241m.\u001b[39mread()\u001b[38;5;241m.\u001b[39mdecode(\u001b[38;5;124m\"\u001b[39m\u001b[38;5;124mutf-8\u001b[39m\u001b[38;5;124m\"\u001b[39m)\n",
      "\u001b[0;31mException\u001b[0m: Command $NS3DIR/ns3 run scratch/wifi-experiment.cc -- --distance=10 --simulationTime=10 --csv_export_path=$NS3DIR/sample.csv --propagationModel=FriisPropagationLossModel failed with exit status 127"
     ]
    }
   ],
   "source": [
    "# setup example experiment\n",
    "propModel = propagationModels[0]\n",
    "run = experiment_run(host=host, propModel=propModel, simulationTime_s=10, distance_m=10, remote_csv_path=\"$NS3DIR/sample.csv\", local_csv_path=\"sample.csv\")\n",
    "run.run()"
   ]
  },
  {
   "cell_type": "code",
   "execution_count": 9,
   "metadata": {},
   "outputs": [
    {
     "name": "stdout",
     "output_type": "stream",
     "text": [
      "\n",
      "\n"
     ]
    }
   ],
   "source": [
    "output = host.exec(\"source ~/.bashrc; echo $NS3DIR\")\n",
    "print(output)"
   ]
  }
 ],
 "metadata": {
  "kernelspec": {
   "display_name": "DataAnalysis-22NWNSwM",
   "language": "python",
   "name": "python3"
  },
  "language_info": {
   "codemirror_mode": {
    "name": "ipython",
    "version": 3
   },
   "file_extension": ".py",
   "mimetype": "text/x-python",
   "name": "python",
   "nbconvert_exporter": "python",
   "pygments_lexer": "ipython3",
   "version": "3.10.12"
  }
 },
 "nbformat": 4,
 "nbformat_minor": 2
}
